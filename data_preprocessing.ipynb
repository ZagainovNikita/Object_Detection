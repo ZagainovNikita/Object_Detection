{
 "cells": [
  {
   "cell_type": "markdown",
   "metadata": {},
   "source": [
    "# Data collection"
   ]
  },
  {
   "cell_type": "code",
   "execution_count": 1,
   "metadata": {},
   "outputs": [],
   "source": [
    "import cv2\n",
    "import uuid\n",
    "import os\n",
    "import time\n",
    "import random\n",
    "import shutil"
   ]
  },
  {
   "cell_type": "code",
   "execution_count": 2,
   "metadata": {},
   "outputs": [],
   "source": [
    "labels = ['thumbs_up', 'thumbs_down', 'hello', 'fist']"
   ]
  },
  {
   "cell_type": "code",
   "execution_count": 3,
   "metadata": {},
   "outputs": [],
   "source": [
    "IMAGES_PATH = os.path.join(\"data\", \"images\")"
   ]
  },
  {
   "cell_type": "code",
   "execution_count": 4,
   "metadata": {},
   "outputs": [],
   "source": [
    "for label in labels:\n",
    "    class_path = os.path.join(IMAGES_PATH, label)\n",
    "    if not os.path.exists(class_path):\n",
    "        os.makedirs(class_path)"
   ]
  },
  {
   "cell_type": "code",
   "execution_count": 14,
   "metadata": {},
   "outputs": [
    {
     "name": "stdout",
     "output_type": "stream",
     "text": [
      "saved to data\\images\\thumbs_up\\thumbs_up10.jpg\n",
      "saved to data\\images\\thumbs_up\\thumbs_up11.jpg\n",
      "saved to data\\images\\thumbs_up\\thumbs_up12.jpg\n",
      "saved to data\\images\\thumbs_up\\thumbs_up13.jpg\n",
      "saved to data\\images\\thumbs_up\\thumbs_up14.jpg\n",
      "saved to data\\images\\thumbs_up\\thumbs_up15.jpg\n",
      "saved to data\\images\\thumbs_up\\thumbs_up16.jpg\n",
      "saved to data\\images\\thumbs_down\\thumbs_down10.jpg\n",
      "saved to data\\images\\thumbs_down\\thumbs_down11.jpg\n",
      "saved to data\\images\\thumbs_down\\thumbs_down12.jpg\n",
      "saved to data\\images\\thumbs_down\\thumbs_down13.jpg\n",
      "saved to data\\images\\thumbs_down\\thumbs_down14.jpg\n",
      "saved to data\\images\\thumbs_down\\thumbs_down15.jpg\n",
      "saved to data\\images\\thumbs_down\\thumbs_down16.jpg\n",
      "saved to data\\images\\hello\\hello10.jpg\n",
      "saved to data\\images\\hello\\hello11.jpg\n",
      "saved to data\\images\\hello\\hello12.jpg\n",
      "saved to data\\images\\hello\\hello13.jpg\n",
      "saved to data\\images\\hello\\hello14.jpg\n",
      "saved to data\\images\\hello\\hello15.jpg\n",
      "saved to data\\images\\hello\\hello16.jpg\n",
      "saved to data\\images\\fist\\fist10.jpg\n",
      "saved to data\\images\\fist\\fist11.jpg\n",
      "saved to data\\images\\fist\\fist12.jpg\n",
      "saved to data\\images\\fist\\fist13.jpg\n",
      "saved to data\\images\\fist\\fist12.jpg\n",
      "saved to data\\images\\fist\\fist13.jpg\n",
      "saved to data\\images\\fist\\fist14.jpg\n",
      "saved to data\\images\\fist\\fist15.jpg\n",
      "saved to data\\images\\fist\\fist16.jpg\n"
     ]
    }
   ],
   "source": [
    "vid = cv2.VideoCapture(0)\n",
    "\n",
    "while True:\n",
    "    ret, frame = vid.read()\n",
    "    frame = cv2.flip(frame, 1)\n",
    "    cv2.imshow(\"frame\", frame)\n",
    "    if cv2.waitKey(1) & 0xFF == ord(\"0\"):\n",
    "        label_path = os.path.join(IMAGES_PATH, labels[0])\n",
    "        img_name = labels[0] + str(len(os.listdir(label_path))) + \".jpg\"\n",
    "        img_path = os.path.join(IMAGES_PATH, labels[0], img_name)\n",
    "        cv2.imwrite(img_path, frame)\n",
    "        print(f\"saved to {img_path}\")\n",
    "        time.sleep(1)\n",
    "\n",
    "    if cv2.waitKey(1) & 0xFF == ord(\"1\"):\n",
    "        label_path = os.path.join(IMAGES_PATH, labels[1])\n",
    "        img_name = labels[1] + str(len(os.listdir(label_path))) + \".jpg\"\n",
    "        img_path = os.path.join(IMAGES_PATH, labels[1], img_name)\n",
    "        cv2.imwrite(img_path, frame)\n",
    "        print(f\"saved to {img_path}\")\n",
    "        time.sleep(1)\n",
    "        \n",
    "    if cv2.waitKey(1) & 0xFF == ord(\"2\"):\n",
    "        label_path = os.path.join(IMAGES_PATH, labels[2])\n",
    "        img_name = labels[2] + str(len(os.listdir(label_path))) + \".jpg\"\n",
    "        img_path = os.path.join(IMAGES_PATH, labels[2], img_name)\n",
    "        cv2.imwrite(img_path, frame)\n",
    "        print(f\"saved to {img_path}\")\n",
    "        time.sleep(1)\n",
    "        \n",
    "    if cv2.waitKey(1) & 0xFF == ord(\"3\"):\n",
    "        label_path = os.path.join(IMAGES_PATH, labels[3])\n",
    "        img_name = labels[3] + str(len(os.listdir(label_path))) + \".jpg\"\n",
    "        img_path = os.path.join(IMAGES_PATH, labels[3], img_name)\n",
    "        cv2.imwrite(img_path, frame)\n",
    "        print(f\"saved to {img_path}\")\n",
    "        time.sleep(1)\n",
    "\n",
    "    if cv2.waitKey(1) & 0xFF == ord(\"q\"):\n",
    "        vid.release()\n",
    "        cv2.destroyAllWindows()\n",
    "        break\n"
   ]
  },
  {
   "cell_type": "code",
   "execution_count": 15,
   "metadata": {},
   "outputs": [],
   "source": [
    "if not os.path.exists(\"image_labeling\"):\n",
    "    os.makedirs(\"image_labeling\")\n",
    "    !git clone https://github.com/tzutalin/labelImg image_labeling"
   ]
  },
  {
   "cell_type": "code",
   "execution_count": 16,
   "metadata": {},
   "outputs": [],
   "source": [
    "!cd image_labeling && pyrcc5 -o libs/resources.py resources.qrc"
   ]
  },
  {
   "cell_type": "code",
   "execution_count": 17,
   "metadata": {},
   "outputs": [
    {
     "name": "stdout",
     "output_type": "stream",
     "text": [
      "Image:D:\\Edu\\Python_Projects\\Object_Detection\\data\\images\\thumbs_up\\thumbs_up10.jpg -> Annotation:D:/Edu/Python_Projects/Object_Detection/data/images/thumbs_up\\thumbs_up10.xml\n",
      "Image:D:\\Edu\\Python_Projects\\Object_Detection\\data\\images\\thumbs_up\\thumbs_up11.jpg -> Annotation:D:/Edu/Python_Projects/Object_Detection/data/images/thumbs_up\\thumbs_up11.xml\n",
      "Image:D:\\Edu\\Python_Projects\\Object_Detection\\data\\images\\thumbs_up\\thumbs_up12.jpg -> Annotation:D:/Edu/Python_Projects/Object_Detection/data/images/thumbs_up\\thumbs_up12.xml\n",
      "Image:D:\\Edu\\Python_Projects\\Object_Detection\\data\\images\\thumbs_up\\thumbs_up13.jpg -> Annotation:D:/Edu/Python_Projects/Object_Detection/data/images/thumbs_up\\thumbs_up13.xml\n",
      "Image:D:\\Edu\\Python_Projects\\Object_Detection\\data\\images\\thumbs_up\\thumbs_up14.jpg -> Annotation:D:/Edu/Python_Projects/Object_Detection/data/images/thumbs_up\\thumbs_up14.xml\n",
      "Image:D:\\Edu\\Python_Projects\\Object_Detection\\data\\images\\thumbs_up\\thumbs_up15.jpg -> Annotation:D:/Edu/Python_Projects/Object_Detection/data/images/thumbs_up\\thumbs_up15.xml\n",
      "Image:D:\\Edu\\Python_Projects\\Object_Detection\\data\\images\\thumbs_up\\thumbs_up16.jpg -> Annotation:D:/Edu/Python_Projects/Object_Detection/data/images/thumbs_up\\thumbs_up16.xml\n",
      "Image:D:\\Edu\\Python_Projects\\Object_Detection\\data\\images\\thumbs_down\\thumbs_down10.jpg -> Annotation:D:/Edu/Python_Projects/Object_Detection/data/images/thumbs_down\\thumbs_down10.xml\n",
      "Image:D:\\Edu\\Python_Projects\\Object_Detection\\data\\images\\thumbs_down\\thumbs_down11.jpg -> Annotation:D:/Edu/Python_Projects/Object_Detection/data/images/thumbs_down\\thumbs_down11.xml\n",
      "Image:D:\\Edu\\Python_Projects\\Object_Detection\\data\\images\\thumbs_down\\thumbs_down12.jpg -> Annotation:D:/Edu/Python_Projects/Object_Detection/data/images/thumbs_down\\thumbs_down12.xml\n",
      "Image:D:\\Edu\\Python_Projects\\Object_Detection\\data\\images\\thumbs_down\\thumbs_down13.jpg -> Annotation:D:/Edu/Python_Projects/Object_Detection/data/images/thumbs_down\\thumbs_down13.xml\n",
      "Image:D:\\Edu\\Python_Projects\\Object_Detection\\data\\images\\thumbs_down\\thumbs_down14.jpg -> Annotation:D:/Edu/Python_Projects/Object_Detection/data/images/thumbs_down\\thumbs_down14.xml\n",
      "Image:D:\\Edu\\Python_Projects\\Object_Detection\\data\\images\\thumbs_down\\thumbs_down15.jpg -> Annotation:D:/Edu/Python_Projects/Object_Detection/data/images/thumbs_down\\thumbs_down15.xml\n",
      "Image:D:\\Edu\\Python_Projects\\Object_Detection\\data\\images\\thumbs_down\\thumbs_down16.jpg -> Annotation:D:/Edu/Python_Projects/Object_Detection/data/images/thumbs_down\\thumbs_down16.xml\n",
      "Image:D:\\Edu\\Python_Projects\\Object_Detection\\data\\images\\hello\\hello10.jpg -> Annotation:D:/Edu/Python_Projects/Object_Detection/data/images/hello\\hello10.xml\n",
      "Image:D:\\Edu\\Python_Projects\\Object_Detection\\data\\images\\hello\\hello11.jpg -> Annotation:D:/Edu/Python_Projects/Object_Detection/data/images/hello\\hello11.xml\n",
      "Image:D:\\Edu\\Python_Projects\\Object_Detection\\data\\images\\hello\\hello12.jpg -> Annotation:D:/Edu/Python_Projects/Object_Detection/data/images/hello\\hello12.xml\n",
      "Image:D:\\Edu\\Python_Projects\\Object_Detection\\data\\images\\hello\\hello13.jpg -> Annotation:D:/Edu/Python_Projects/Object_Detection/data/images/hello\\hello13.xml\n",
      "Image:D:\\Edu\\Python_Projects\\Object_Detection\\data\\images\\hello\\hello14.jpg -> Annotation:D:/Edu/Python_Projects/Object_Detection/data/images/hello\\hello14.xml\n",
      "Image:D:\\Edu\\Python_Projects\\Object_Detection\\data\\images\\hello\\hello15.jpg -> Annotation:D:/Edu/Python_Projects/Object_Detection/data/images/hello\\hello15.xml\n",
      "Image:D:\\Edu\\Python_Projects\\Object_Detection\\data\\images\\hello\\hello16.jpg -> Annotation:D:/Edu/Python_Projects/Object_Detection/data/images/hello\\hello16.xml\n",
      "Image:D:\\Edu\\Python_Projects\\Object_Detection\\data\\images\\fist\\fist10.jpg -> Annotation:D:/Edu/Python_Projects/Object_Detection/data/images/fist\\fist10.xml\n",
      "Image:D:\\Edu\\Python_Projects\\Object_Detection\\data\\images\\fist\\fist11.jpg -> Annotation:D:/Edu/Python_Projects/Object_Detection/data/images/fist\\fist11.xml\n",
      "Image:D:\\Edu\\Python_Projects\\Object_Detection\\data\\images\\fist\\fist12.jpg -> Annotation:D:/Edu/Python_Projects/Object_Detection/data/images/fist\\fist12.xml\n",
      "Image:D:\\Edu\\Python_Projects\\Object_Detection\\data\\images\\fist\\fist13.jpg -> Annotation:D:/Edu/Python_Projects/Object_Detection/data/images/fist\\fist13.xml\n",
      "Image:D:\\Edu\\Python_Projects\\Object_Detection\\data\\images\\fist\\fist14.jpg -> Annotation:D:/Edu/Python_Projects/Object_Detection/data/images/fist\\fist14.xml\n",
      "Image:D:\\Edu\\Python_Projects\\Object_Detection\\data\\images\\fist\\fist15.jpg -> Annotation:D:/Edu/Python_Projects/Object_Detection/data/images/fist\\fist15.xml\n",
      "Image:D:\\Edu\\Python_Projects\\Object_Detection\\data\\images\\fist\\fist16.jpg -> Annotation:D:/Edu/Python_Projects/Object_Detection/data/images/fist\\fist16.xml\n"
     ]
    }
   ],
   "source": [
    "!python image_labeling/labelImg.py"
   ]
  },
  {
   "cell_type": "code",
   "execution_count": 18,
   "metadata": {},
   "outputs": [],
   "source": [
    "dataset = {}\n",
    "for label in labels:\n",
    "    class_path = os.path.join(IMAGES_PATH, label)\n",
    "    images = sorted(list(filter(lambda x: \".jpg\" in x, os.listdir(class_path))))\n",
    "    xmls = sorted(list(filter(lambda x: \".xml\" in x, os.listdir(class_path))))\n",
    "    class_data = {image: xml for image, xml in zip(images, xmls)}\n",
    "    dataset[label] = class_data"
   ]
  },
  {
   "cell_type": "code",
   "execution_count": 19,
   "metadata": {},
   "outputs": [],
   "source": [
    "train_dataset = {}\n",
    "test_dataset = {}\n",
    "test_size = 0.2\n",
    "\n",
    "for label, samples in dataset.items():\n",
    "    samples_paired = list(samples.items())\n",
    "    train_dataset[label] = samples_paired\n",
    "    test_dataset[label] = []\n",
    "    samples_len = len(samples_paired)\n",
    "    test_count = int(samples_len * test_size)\n",
    "    test_samples = random.sample(list(range(samples_len)), test_count)\n",
    "    for i, idx in enumerate(test_samples):\n",
    "        test_dataset[label].append(train_dataset[label].pop(idx - i))"
   ]
  },
  {
   "cell_type": "code",
   "execution_count": 20,
   "metadata": {},
   "outputs": [],
   "source": [
    "DATASET_PATH = \"./data/images/\"\n",
    "train_dataset_path = os.path.join(DATASET_PATH, \"train\")\n",
    "test_dataset_path = os.path.join(DATASET_PATH, \"test\")\n",
    "\n",
    "if not os.path.exists(train_dataset_path) or not os.path.exists(test_dataset_path):\n",
    "    os.makedirs(train_dataset_path)\n",
    "    os.makedirs(test_dataset_path)\n",
    "    for label, samples in train_dataset.items():\n",
    "        label_path = os.path.join(train_dataset_path, label)\n",
    "        previous_path = os.path.join(IMAGES_PATH, label)\n",
    "        os.makedirs(label_path)\n",
    "        for image, xml in samples:\n",
    "            image_path = os.path.join(previous_path, image)\n",
    "            xml_path = os.path.join(previous_path, xml)\n",
    "            shutil.copy(image_path, label_path)\n",
    "            shutil.copy(xml_path, label_path)\n",
    "    for label, samples in test_dataset.items():\n",
    "        label_path = os.path.join(test_dataset_path, label)\n",
    "        previous_path = os.path.join(IMAGES_PATH, label)\n",
    "        os.makedirs(label_path)\n",
    "        for image, xml in samples:\n",
    "            image_path = os.path.join(previous_path, image)\n",
    "            xml_path = os.path.join(previous_path, xml)\n",
    "            shutil.copy(image_path, label_path)\n",
    "            shutil.copy(xml_path, label_path)\n"
   ]
  },
  {
   "cell_type": "code",
   "execution_count": null,
   "metadata": {},
   "outputs": [],
   "source": []
  }
 ],
 "metadata": {
  "kernelspec": {
   "display_name": "Python 3",
   "language": "python",
   "name": "python3"
  },
  "language_info": {
   "codemirror_mode": {
    "name": "ipython",
    "version": 3
   },
   "file_extension": ".py",
   "mimetype": "text/x-python",
   "name": "python",
   "nbconvert_exporter": "python",
   "pygments_lexer": "ipython3",
   "version": "3.9.18"
  }
 },
 "nbformat": 4,
 "nbformat_minor": 2
}
